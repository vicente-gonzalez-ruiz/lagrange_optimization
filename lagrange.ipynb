{
 "cells": [
  {
   "cell_type": "markdown",
   "metadata": {
    "colab_type": "text",
    "id": "view-in-github"
   },
   "source": [
    "<a href=\"https://colab.research.google.com/github/vicente-gonzalez-ruiz/lagrange_optimization/blob/master/lagrange.ipynb\" target=\"_parent\"><img src=\"https://colab.research.google.com/assets/colab-badge.svg\" alt=\"Open In Colab\"/></a>"
   ]
  },
  {
   "cell_type": "markdown",
   "metadata": {
    "colab_type": "text",
    "id": "ssEx3HTO4fLD"
   },
   "source": [
    "# Lagrangian Optimization\n",
    "The [Lagrange Multipliers](https://en.wikipedia.org/wiki/Lagrange_multiplier) Method allows to find a set of equations which describe where an objective function is maximum or minimum, knowing that there are one or more constraint functions.\n",
    "\n",
    "Depending on whether the object function is convex or concave, we will determine minimum or maximum values, respectively.\n"
   ]
  },
  {
   "cell_type": "markdown",
   "metadata": {
    "colab_type": "text",
    "id": "qmpKypq-FZnb"
   },
   "source": [
    "Lagrangian Optimization is based on the idea that the objective function is maximized or minimized when the [gradient](https://en.wikipedia.org/wiki/Gradient) of the objective function (the direction of the maximum change of the objective function) is parallel (is the same that) to the gradient(s) of the constraint function(s).\n",
    "\n",
    "For example, if we have an objetive function $O(x,y)$ and a constraint function $C(x,y)$, we have that\n",
    "\\begin{align}\n",
    "\\frac{\\partial O}{\\partial x} = \\lambda \\frac{\\partial C}{\\partial x}\\\\\n",
    "\\frac{\\partial O}{\\partial y} = \\lambda \\frac{\\partial C}{\\partial y}.\\\\\n",
    "\\end{align}\n",
    "\n",
    "These equations, considered with the constraint(s), allow to find a set of equations, that when solved, determine the values of $x$ and $y$ that maximize or minimize the objective function."
   ]
  },
  {
   "cell_type": "markdown",
   "metadata": {
    "colab_type": "text",
    "id": "Ba2mI7Lq-eFA"
   },
   "source": [
    "## Example: find the largest rectangle inside of a elipse (continuous differentiable case)\n",
    "\n",
    "```\n",
    "             ^ y\n",
    "         ....|.... <- elipse\n",
    "       +-----+-----+ (x^*,y^*)\n",
    "      .|     |     |.\n",
    "     --+-----+-----+-->x\n",
    "      .|     |     |.\n",
    "       +-----+-----+ <- rectangle\n",
    "        .....|.....\n",
    "```\n",
    "\n",
    "Problem: maximize $p(x,y)=4x+4y$ (objective) subject to $g(x,y)=x^2+4y^2=4$ (constraint).\n",
    "\n",
    "This constrained optimization problem can be transformed into the following unconstrained optimization problem: maximize $j(x,y,\\lambda) = p(x,y)-\\lambda (4-g(x,y))$.\n",
    "\n",
    "Taking the derivative of $j$ respect to $x$ and $y$ and setting it equal to zero, we get that\n",
    "\n",
    "\\begin{equation}\n",
    "\\left. \\begin{array}{cc}\n",
    "  \\frac{\\partial p}{\\partial x} = \\lambda\\frac{\\partial g}{\\partial x} \\implies 4=\\lambda 2x\\\\\n",
    "  \\frac{\\partial p}{\\partial y} = \\lambda\\frac{\\partial g}{\\partial y} \\implies 4 = \\lambda 8y\n",
    "\\end{array}\\right\\} \\implies x = 4y.\n",
    "\\end{equation}\n",
    "\n",
    "Substituting in the constraint, we get that\n",
    "\n",
    "\\begin{equation}\n",
    "  (4y)^2+4y^2=4 \\implies 20y^2=4 \\implies y^*=1/\\sqrt{5}.\n",
    "\\end{equation}\n",
    "\n",
    "Substituting in the previous equation, we get that\n",
    "\n",
    "\\begin{equation}\n",
    "  x^* = 4/\\sqrt{5}.\n",
    "\\end{equation}\n",
    "\n",
    "Finally, the maximum perimeter is obtained at\n",
    "\n",
    "\\begin{equation}\n",
    "  p(\\frac{4}{\\sqrt{5}},\\frac{1}{\\sqrt{5}})=4\\sqrt{5}.\n",
    "\\end{equation}\n",
    "\n",
    "Notice that is is a maximum because $p(0,1)=4<4\\sqrt{5}$ and $p(2,0)=8<4\\sqrt{5}$."
   ]
  },
  {
   "cell_type": "markdown",
   "metadata": {
    "colab_type": "text",
    "id": "aYyZ3JIzdIWz"
   },
   "source": [
    "## Example: [RDO (Rate/Distortion Optimization) in block-based image orthogonal transform coding](https://www.sciencedirect.com/book/9780126208627/introduction-to-data-compression) (continuous differentiable case)\n",
    "In transform coding, the codec divides the input image in $B$ blocks that are transformed into $M$ coefficients. \n",
    "\n",
    "Let suppose that\n",
    "\n",
    "\\begin{equation}\n",
    "  R = \\sum_k^M R_k \\tag{1}\n",
    "\\end{equation}\n",
    "\n",
    "is the average number of bits/coefficient and $R_i$ the average number of bits assigned to each coefficient. We want to find how many bits should be asigned for each coefficient by an uniform quantizer.\n",
    "\n",
    "In transform coding, on average, the distortion introduced by the quantization of a coefficient is proportional to the variance of the position of the coefficient in the block. Specifically, for the $k$-th quantizer, the variance of the reconstruction error is\n",
    "\n",
    "\\begin{equation}\n",
    "  \\sigma(r)^2_k = \\alpha_k 2^{-2 R_k}\\sigma(i)^2_k, \\tag{2}\n",
    "\\end{equation}\n",
    "\n",
    "where $\\sigma(i)^2_k$ is the variance of the input coefficients of the $k$-th quantizer, and $\\alpha_k$ is a factor that depends on the input distribution and the quantizer.\n",
    "\n",
    "The total reconstruction error for a block is given by\n",
    "\n",
    "\\begin{equation}\n",
    "  \\sigma(r)^2 = \\sum_k^M\\alpha_k2^{-2R_k}\\sigma(i)^2_k. \\tag{3}\n",
    "\\end{equation}\n",
    "\n",
    "The objective of the bit allocation procedure is to find $\\{R_k\\}$ to minimize Eq. 3, subject to the constraint of Eq. 1. Assuming that $\\alpha_k$ is constant for all $k$, we can set up the minimization problem in terms of Lagrange Multipliers as\n",
    "\n",
    "\\begin{equation}\n",
    "  J = \\alpha\\sum_k^M2^{-2R_k}\\sigma(i)^2_k-\\lambda (R-\\frac{1}{M}\\sum_k^M R_k). \\tag{4}\n",
    "\\end{equation}\n",
    "\n",
    "Taking the derivative of $J$ with respect to $R_k$ and setting it equal to zero, we obtain that\n",
    "\n",
    "\\begin{equation}\n",
    "  R_k = \\frac{1}{2}\\log_2(2\\alpha\\ln(2\\sigma(i)^2))-\\frac{1}{2}\\log_2(\\lambda). \\tag{5}\n",
    "\\end{equation}\n",
    "\n",
    "Substituting Eq. 5 in Eq. 1, we get that\n",
    "\n",
    "\\begin{equation}\n",
    "  \\lambda = \\prod_k^M(2\\alpha\\ln(2\\sigma(i)^2_k))^{\\frac{1}{M}} 2^{-2R}. \\tag{6}\n",
    "\\end{equation}\n",
    "\n",
    "Substituting Eq. 6 in Eq. 5, we finally obtain the individual bit allocations\n",
    "\n",
    "\\begin{equation}\n",
    "  R_k = R + \\frac{1}{2}\\log_2\\frac{\\sigma(i)^2_k}{\\prod_k^M(\\sigma(i)^2_k)^{\\frac{1}{M}}}.\n",
    "\\end{equation}\n",
    "\n",
    "Notize that this rate-control algorithm would assign the same number of bits $R$ to each transformed block, that is unoptimal. Using the quantization matrix for each block (as JPEG does) would be an optimal solution.\n"
   ]
  },
  {
   "cell_type": "markdown",
   "metadata": {
    "colab_type": "text",
    "id": "EXP3PnfFScOf"
   },
   "source": [
    "## Example: [RDO in subband coding](https://books.google.es/books?id=YVTTBwAAQBAJ&pg=PA60&lpg=PA60&dq=lagrange+optimization+data+compression&source=bl&ots=dqvx6vR50R&sig=ACfU3U0Prmvrn8aLJWfKYaON2CLaC6t-Ig&hl=en&sa=X&ved=2ahUKEwi3qvLTxPvpAhUSlxQKHRckA5MQ6AEwBXoECAkQAQ#v=onepage&q=lagrange%20optimization%20data%20compression&f=false) (discrete undifferentiable case)\n",
    "In subband coding, the whole image is transformed and a set of subbands is obtained. As a consequence of the transform is orthogonal or at least biorthogonal, the contribution of each subband to the reconstruction of the image is independent. In other words,\n",
    "\n",
    "\\begin{equation}\n",
    "  D=\\sum_i^N D_i(R_i), \\tag{1}\n",
    "\\end{equation}\n",
    "\n",
    "where $D$ is the distortion of the reconstruction, $N$ the number of subbands, $D_i$ the distortion of the $i$-th subband, and $R_i$ the rate of such subband. This means that each subband can be compressed independently, and given a target rate $R$, the RDO can be performed by selecting a number of bits (generally, quality layers) of each subband. This optimization problem then becomes to find\n",
    "\n",
    "\\begin{equation}\n",
    "  \\underset{i}{\\operatorname{arg\\,min}}\\, \\Big( D = \\sum_i^N D_i(R_i)\\Big)\\, \\text{subject to}\\, R=\\sum_i^N R_i, \\tag{2}\n",
    "\\end{equation}\n",
    "\n",
    "that by using the Lagrangian Optimization Method, this constrained problem can be converted into the following unconstrained problem that find\n",
    "\n",
    "\\begin{equation}\n",
    "  \\underset{i}{\\operatorname{arg\\,min}}\\, (J=D+\\lambda R) = \\underset{i}{\\operatorname{arg\\,min}}\\, \\Big(\\sum_i^N D_i(R_i)+\\lambda\\sum_i^N R_i\\Big). \\tag{3}\n",
    "\\end{equation}\n",
    "\n",
    "This optimization problem can be solve by setting\n",
    "\n",
    "\\begin{equation}\n",
    "  \\frac{\\partial J}{\\partial R_i} = \\frac{\\partial}{\\partial R_i}\\Big\\{ \\sum_i^N D_i(R_i)+\\lambda\\sum_i^N R_i \\Big\\}=0,\\, i=1,2,\\dots,N, \\tag{4}\n",
    "\\end{equation}\n",
    "\n",
    "that due to the separability of the rate and distortion measures, Eq. 4 yields\n",
    "\n",
    "\\begin{equation}\n",
    "  \\frac{\\partial D_i(R_i)}{\\partial R_i} = -\\lambda. \\tag{5}\n",
    "\\end{equation}\n",
    "\n",
    "This implies that when optimum allocation is achieved, all subbands must be operating at points having equal slopes on their respective R/D curves (Constant Slope Property). Notice that by changing $\\lambda$ we can vary $R$.\n",
    "\n",
    "$\\lambda$ here represents the slope of the line that, when moved from the origin of coordinates towards the R/D curve, would [intersect](https://fgiesen.wordpress.com/2018/12/10/rate-distortion-optimization/) with a $(R_i, D_i)$ point of the piece-wise convex curve (defining a [Pareto Frontier](https://en.wikipedia.org/wiki/Pareto_efficiency)), where $i$ represents the index of the quality layer. Here, in this example, $\\lambda$ controls the number of quality layers that must be included in the final code-stream of each subband (notice that each quality layer has an specific slope, and therefore, all layers with a slope $\\lambda_i \\geq \\lambda$ should be included. Notice $\\lambda_i$ can be computed as\n",
    "\n",
    "\\begin{equation}\n",
    "  \\lambda_i = \\frac{R_{i+1}-R_i}{D_i-D_{i+1}}. \\tag{6}\n",
    "\\end{equation}\n"
   ]
  },
  {
   "cell_type": "markdown",
   "metadata": {
    "colab_type": "text",
    "id": "-Fa-FPvtRSX7"
   },
   "source": [
    "## Example: [RDO (Rate/Distortion Optimization) in block-based image orthogonal transform coding](https://ieeexplore.ieee.org/stamp/stamp.jsp?tp=&arnumber=8081467) (discrete case)\n",
    "\n",
    "Lets define $I=\\{B_b\\}$ an image $I$ as a collection of blocks $B_b$ (being $b$ the block index), and $C_b=\\text{DCT}(B_b)$, a transformed block. Lets define the quantization process of a coefficient $C_{b,k}$ as\n",
    "\n",
    "\\begin{equation}\n",
    " C_{b,k}^{[q]} = \\text{Round}\\Big(\\frac{C_{b,k}}{q}\\Big),\n",
    "\\end{equation}\n",
    "\n",
    "where $q$ is the quantization step size.\n",
    "\n",
    "Lets define the expected rate (remember that in JPEG the rate is a combination of Huffman and RLE) of the coefficients at the position $k$ of each transformed block\n",
    "\n",
    "\\begin{equation}\n",
    "R^q_{\\cdot,k} = \\frac{1}{64}H\\Big(\\big\\{ C_{\\cdot,k}^{[q]} \\big\\}\\Big),\n",
    "\\end{equation}\n",
    "\n",
    "where $H$ is the [entropy](https://en.wikipedia.org/wiki/Entropy_(information_theory)) of the coefficients located the position $k$ of each block, quantized using $q$.\n",
    "\n",
    "Lets compute the average distortion\n",
    "\n",
    "\\begin{equation}\n",
    "  D_{\\cdot,k}^q = \\frac{1}{64}\\frac{1}{N}\\sum_b^N\\big(C_k-C_{b,k}^{[q]}\\big)^2,\n",
    "\\end{equation}\n",
    "\n",
    "where $N$ is the number of blocks in $I$. Notice that this is possible because the DCT is an orthonormal transform, and therefore, we can measure the error of the reconstructed image (caused by the quantization of the coefficients) in the transform domain.\n",
    "\n",
    "With this information, and given a bit-budget $R$, the following optimization problem aries\n",
    "\n",
    "\\begin{equation}\n",
    "  \\underset{\\forall q\\in Q}{\\operatorname{arg\\,min}}\\, D=\\sum_k^{64} D_{\\cdot,k}^q\\, \\text{subject to}\\, R=\\sum_k^{64} R_{\\cdot,k}^q, \\tag{2}\n",
    "\\end{equation}\n",
    "\n",
    "where $Q$ is the optimal quantization matrix (containing the quantization step sizes that minimize the distortion). Due to the DCT is orghogonal, this problem can be splitted into $64$ smaller problems where, for a given $k$ (and therefore, for a given $Q_k=q$), we have to find \n",
    "\n",
    "\\begin{equation}\n",
    "  \\underset{q}{\\operatorname{arg\\,min}}\\, D_{\\cdot,k}^q\\, \\text{subject to}\\, R_{\\cdot,k}^q. \\tag{3}\n",
    "\\end{equation}\n",
    "\n",
    "This problem is similar to the previous one (RDO in Subband Image Coding), where, given a bit-budget $R$, we had to find the optimal quantization step size for the subbands. Now, we want to determine the quantization step size for each coefficient of the block, and the solution is to chose the $q$ values that provides a constant quality among the coeficients."
   ]
  },
  {
   "cell_type": "markdown",
   "metadata": {
    "colab_type": "text",
    "id": "TOi2M8wAEOeF"
   },
   "source": [
    "\n",
    "## A simple continuous case\n",
    "Lets minimize the distortion $D$ given a *quality* $\\lambda$ (providing the corresponding $R$), we solve the following example:\n",
    "\n",
    "\\begin{equation}\n",
    "\\underset{R}{\\operatorname{arg\\,min}}\\,\n",
    "\\Big\\{\\begin{array}{l}\n",
    "  D_1 = 1/R_1 \\\\\n",
    "  D_2 = 1+R_2/2\n",
    "\\end{array}\\Big\\}\\,\n",
    "\\text{s.t.}\\, \\lambda = 10,\n",
    "\\end{equation}\n",
    "\n",
    "where $D_1$ and $D_2$ are the distortion generated after reconstructing two *blocks* at rates $R_1$ and $R_2$.\n",
    "\n",
    "Using the Lagrange Multipliers Method, this constrained problem can be transformed into the unconstrained one:\n",
    "\n",
    "\\begin{equation}\n",
    "\\underset{R}{\\operatorname{arg\\,min}}\\, (J=D_1+D_2+\\lambda (R_1+R_2)),\n",
    "\\end{equation}\n",
    "\n",
    "that can be solved computing the (partial) derivative of $J$ respect to $R_1$ and equaling to 0, and computing the (partial) derivative of $J$ respect to $R_2$ and equaling to 0. This, for a given $\\lambda$ will provide a $R_1$ and a $R_2$, and obviously, a total $R=R_1+R_2$. Solving\n",
    "\n",
    "\\begin{equation}\n",
    "\\frac{\\partial J}{\\partial R_1} = \\frac{-1}{R_1^2}+\\lambda = 0 \\\\\n",
    "\\frac{\\partial J}{\\partial R_2} = \\frac{-0.5}{R_2^2}+\\lambda = 0,\n",
    "\\end{equation}\n",
    "\n",
    "we get that\n",
    "\\begin{equation}\n",
    "R_1 = \\sqrt{\\frac{1}{\\lambda}} \\\\\n",
    "R_2 = \\sqrt{\\frac{0.5}{\\lambda}}.\n",
    "\\end{equation}\n",
    "\n",
    "For example, for $\\lambda=10$,\n",
    "\\begin{equation}\n",
    "R_1 \\approx 0.32\\\\\n",
    "R_2 \\approx 0.22.\n",
    "\\end{equation}\n",
    "\n",
    "Therefore, if we know the quantization step for those bit-rates, using $0.32$ bits/pixel for the *block* 1 and $0.22$ bits/pixel for the *block* 2, we have an optimal bit-allocation for $R=R_1+R_2\\approx 0.54$. "
   ]
  },
  {
   "cell_type": "code",
   "execution_count": 24,
   "metadata": {},
   "outputs": [
    {
     "data": {
      "image/png": "[encoded data removed]",
      "text/plain": [
       "<Figure size 432x288 with 1 Axes>"
      ]
     },
     "metadata": {
      "needs_background": "light"
     },
     "output_type": "display_data"
    },
    {
     "data": {
      "text/latex": [
       "$\\displaystyle \\text{Minimum of}~J_1~\\text{at}~R=0.32~\\text{for}~\\lambda=10$"
      ],
      "text/plain": [
       "<IPython.core.display.Math object>"
      ]
     },
     "metadata": {},
     "output_type": "display_data"
    },
    {
     "data": {
      "text/latex": [
       "$\\displaystyle \\text{Minimum of}~J_2~\\text{at}~R=0.22~\\text{for}~\\lambda=10$"
      ],
      "text/plain": [
       "<IPython.core.display.Math object>"
      ]
     },
     "metadata": {},
     "output_type": "display_data"
    }
   ],
   "source": [
    "import matplotlib\n",
    "import matplotlib.pyplot as plt\n",
    "import numpy as np\n",
    "from IPython.display import display, Math, Latex\n",
    "\n",
    "# Data for plotting\n",
    "R = np.arange(0.1, 1.0, 0.01)\n",
    "D1 = 1/R\n",
    "D2 = 0.5/R + 1\n",
    "_lambda = 10\n",
    "J1 = D1 + _lambda*R\n",
    "J2 = D2 + _lambda*R\n",
    "fig, ax = plt.subplots()\n",
    "ax.plot(R, D1, label=\"$D_1=1/R_1$\")\n",
    "ax.plot(R, D2, label=\"$D_2=0.5/R_2$\")\n",
    "ax.plot(R, R, label=\"$R$\")\n",
    "ax.plot(R, J1, label=\"$J_1=D_1+\\lambda R_1$\")\n",
    "ax.plot(R, J2, label=\"$J_2=D_2+\\lambda R_2$\")\n",
    "ax.plot(R, -R*_lambda, label=\"$-\\lambda$\")\n",
    "\n",
    "ax.set(xlabel='$R$', ylabel='$D$', title='$\\lambda={}$'.format(_lambda))\n",
    "ax.grid()\n",
    "ax.legend(bbox_to_anchor=(1.05, 1), loc='upper left', borderaxespad=0.)\n",
    "\n",
    "#fig.savefig(\"test.png\")\n",
    "plt.show()\n",
    "display(Math(r'\\text{Minimum of}~J_1~\\text{at}~R=' + str(np.argmin(J1)*0.01 + 0.1) + r'~\\text{for}~\\lambda=' + str(_lambda)))\n",
    "display(Math(r'\\text{Minimum of}~J_2~\\text{at}~R=' + str(np.argmin(J2)*0.01 + 0.1) + r'~\\text{for}~\\lambda=' + str(_lambda)))"
   ]
  }
 ],
 "metadata": {
  "colab": {
   "include_colab_link": true,
   "name": "lagrange.ipynb",
   "provenance": []
  },
  "kernelspec": {
   "display_name": "Python 3 (ipykernel)",
   "language": "python",
   "name": "python3"
  },
  "language_info": {
   "codemirror_mode": {
    "name": "ipython",
    "version": 3
   },
   "file_extension": ".py",
   "mimetype": "text/x-python",
   "name": "python",
   "nbconvert_exporter": "python",
   "pygments_lexer": "ipython3",
   "version": "3.10.1"
  }
 },
 "nbformat": 4,
 "nbformat_minor": 1
}
