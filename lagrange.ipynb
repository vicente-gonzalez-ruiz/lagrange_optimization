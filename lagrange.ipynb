{
  "nbformat": 4,
  "nbformat_minor": 0,
  "metadata": {
    "kernelspec": {
      "display_name": "Python 3",
      "language": "python",
      "name": "python3"
    },
    "language_info": {
      "codemirror_mode": {
        "name": "ipython",
        "version": 3
      },
      "file_extension": ".py",
      "mimetype": "text/x-python",
      "name": "python",
      "nbconvert_exporter": "python",
      "pygments_lexer": "ipython3",
      "version": "3.6.1"
    },
    "colab": {
      "name": "lagrange.ipynb",
      "provenance": [],
      "include_colab_link": true
    }
  },
  "cells": [
    {
      "cell_type": "markdown",
      "metadata": {
        "id": "view-in-github",
        "colab_type": "text"
      },
      "source": [
        "<a href=\"https://colab.research.google.com/github/vicente-gonzalez-ruiz/lagrange_optimization/blob/master/lagrange.ipynb\" target=\"_parent\"><img src=\"https://colab.research.google.com/assets/colab-badge.svg\" alt=\"Open In Colab\"/></a>"
      ]
    },
    {
      "cell_type": "markdown",
      "metadata": {
        "id": "ssEx3HTO4fLD",
        "colab_type": "text"
      },
      "source": [
        "# Lagrangian Optimization\n",
        "The [Lagrange Multipliers](https://en.wikipedia.org/wiki/Lagrange_multiplier) Method allows to find a set of equations which describe where an objective function is maximum or minimum, knowing that there are one or more constraint functions.\n",
        "\n",
        "Depending on whether the object function is convex or concave, we will determine minimum or maximum values, respectively.\n"
      ]
    },
    {
      "cell_type": "markdown",
      "metadata": {
        "id": "qmpKypq-FZnb",
        "colab_type": "text"
      },
      "source": [
        "## Idea\n",
        "Lagrangian Optimization is based on the idea that the objective function is maximized or minimized when the gradient of the objective function (the direction of the maximum change of the objective function) is parallel (is the same that) to the gradient(s) of the constraint function(s).\n",
        "\n",
        "For example, if we have an objetive function $O(x,y)$ and a constraint function $C(x,y)$, we have that\n",
        "\\begin{align}\n",
        "\\frac{\\partial O}{\\partial x} = \\lambda \\frac{\\partial C}{\\partial x}\\\\\n",
        "\\frac{\\partial O}{\\partial y} = \\lambda \\frac{\\partial C}{\\partial y}.\\\\\n",
        "\\end{align}\n",
        "\n",
        "These equations, considered with the constraint(s), allow to find a set of equations, that when solved, determine the values of $x$ and $y$ that maximize or minimize the objective function."
      ]
    },
    {
      "cell_type": "markdown",
      "metadata": {
        "id": "aYyZ3JIzdIWz",
        "colab_type": "text"
      },
      "source": [
        "## Example of use in block-based image transform coding (continuous case)\n",
        "In transform codind, the codec divides the input image in $N$ blocks that are transformed into $M$ coefficients. Supposing that we are going to quantize each block using the same quantization matrix, we want to find how many bits should be used used for each coefficient.\n",
        "\n",
        "Let\n",
        "\n",
        "\\begin{equation}\n",
        "  R = \\sum_k^M R_k \\tag{1}\n",
        "\\end{equation}\n",
        "\n",
        "the average number of bits/coefficient and $R_i$ the average number of bits assigned to each coefficient.\n",
        "\n",
        "In transform coding, on average, the distortion introduced by the quantization of a coefficient is proportional to the variance of the position of the coefficient in the block. Specifically, for the $i$-th quantizer, the variance of the reconstruction error is\n",
        "\n",
        "\\begin{equation}\n",
        "  \\sigma(r)^2_k = \\alpha_k2^{-2R_k}\\sigma(i)^2_k, \\tag{2}\n",
        "\\end{equation}\n",
        "\n",
        "where $\\sigma(i)^2_k$ is the variance of the input quantizer, and $\\alpha_k$ is a factor that depends on the input distribution of the quantizer.\n",
        "\n",
        "The total reconstruction error is given by\n",
        "\n",
        "\\begin{equation}\n",
        "  \\sigma(r)^2 = \\sum_k^M\\alpha_k2^{-2R_k}\\sigma(i)^2_k. \\tag{3}\n",
        "\\end{equation}\n",
        "\n",
        "The objective of the bit allocation procedure is to find $\\{R_k\\}$ to minimize Eq. 3, subject to the constraint of Eq. 1. Assuming that $\\alpha_k$ is constant for all $k$, we can set up the minimization problem in terms of Lagrange Multipliers as\n",
        "\n",
        "\\begin{equation}\n",
        "  J = \\alpha\\sum_k^M2^{-2R_k}\\sigma(i)^2_k-\\lambda (R-\\frac{1}{M}\\sum_k^M R_k). \\tag{4}\n",
        "\\end{equation}\n",
        "\n",
        "Taking the derivative of $J$ with respect to $R_k$ and setting it equal to zero, we obtain that\n",
        "\n",
        "\\begin{equation}\n",
        "  R_k = \\frac{1}{2}\\log_2(2\\alpha\\ln(2\\sigma(i)^2))-\\frac{1}{2}\\log_2(\\lambda). \\tag{5}\n",
        "\\end{equation}\n",
        "\n",
        "Substituting Eq. 5 in Eq. 1, we get that\n",
        "\n",
        "\\begin{equation}\n",
        "  \\lambda = \\prod_k^M(2\\alpha\\ln(2\\sigma(i)^2_k))^{\\frac{1}{M}} 2^{-2R}. \\tag{6}\n",
        "\\end{equation}\n",
        "\n",
        "Substituting Eq. 6 in Eq. 5, we finally obtain the individual bit allocations\n",
        "\n",
        "\\begin{equation}\n",
        "  R_k = R + \\frac{1}{2}\\log_2\\frac{\\sigma(i)^2_k}{\\prod_k^M(\\sigma(i)^2_k)^{\\frac{1}{M}}}.\n",
        "\\end{equation}\n"
      ]
    },
    {
      "cell_type": "markdown",
      "metadata": {
        "id": "EXP3PnfFScOf",
        "colab_type": "text"
      },
      "source": [
        "## Example of use in subband coding\n",
        "In subband coding, the whole image is transformed and a set of subbands is obtained."
      ]
    },
    {
      "cell_type": "markdown",
      "metadata": {
        "id": "TOi2M8wAEOeF",
        "colab_type": "text"
      },
      "source": [
        "\n",
        "\n",
        "## Application to Rate/Distortion Optimization\n",
        "\n",
        "Data compression try to reduce the rate of the code-stream (objective) $R$ given a certain distortion (constraint) $D$. The other posibility if to minimize $D$ (objective) given a certain $R$ (constraint). The second case is usually the most frequent. In this case, the optimization problem can be described by:\n",
        "\\begin{equation}\n",
        "\\end{equation}\n",
        "\n"
      ]
    },
    {
      "cell_type": "code",
      "metadata": {
        "id": "s4aOqPu94fLF",
        "colab_type": "code",
        "outputId": "f7da8753-fff8-4575-b82e-3b9cfe7d02b6",
        "colab": {
          "base_uri": "https://localhost:8080/",
          "height": 318
        }
      },
      "source": [
        "import matplotlib\n",
        "import matplotlib.pyplot as plt\n",
        "import numpy as np\n",
        "from IPython.display import display, Math, Latex\n",
        "\n",
        "# Data for plotting\n",
        "R = np.arange(0.1, 2.0, 0.01)\n",
        "D1 = 1/R\n",
        "D2 = 0.5/R+1\n",
        "D = D1+D2\n",
        "_lambda = 10\n",
        "L = D+_lambda*R\n",
        "\n",
        "fig, ax = plt.subplots()\n",
        "ax.plot(R, D1, label=\"$D_1$\")\n",
        "ax.plot(R, D2, label=\"$D_2$\")\n",
        "ax.plot(R, D, label=\"$D=D_1+D_2$\")\n",
        "ax.plot(R, R, label=\"$R$\")\n",
        "ax.plot(R, L, label=\"$L=D+\\lambda R$\")\n",
        "ax.plot(R, -R*_lambda, label=\"$-\\lambda$\")\n",
        "\n",
        "ax.set(xlabel='$R$', ylabel='$D$', title='$\\lambda={}$'.format(_lambda))\n",
        "ax.grid()\n",
        "ax.legend(bbox_to_anchor=(1.05, 1), loc='upper left', borderaxespad=0.)\n",
        "\n",
        "\n",
        "#fig.savefig(\"test.png\")\n",
        "plt.show()\n",
        "display(Math(r'\\text{Minimum of}~L~\\text{at}~R=' + str(np.argmin(L)*0.01) + r'~\\text{for}~\\lambda=' + str(_lambda)))"
      ],
      "execution_count": 0,
      "outputs": [
        {
          "output_type": "display_data",
          "data": {
            "image/png": "[encoded data removed]",
            "text/plain": [
              "<Figure size 432x288 with 1 Axes>"
            ]
          },
          "metadata": {
            "tags": [],
            "needs_background": "light"
          }
        },
        {
          "output_type": "display_data",
          "data": {
            "text/latex": "$$\\text{Minimum of}~L~\\text{at}~R=0.29~\\text{for}~\\lambda=10$$",
            "text/plain": [
              "<IPython.core.display.Math object>"
            ]
          },
          "metadata": {
            "tags": []
          }
        }
      ]
    },
    {
      "cell_type": "code",
      "metadata": {
        "id": "SHtMsS1e4fLO",
        "colab_type": "code",
        "colab": {}
      },
      "source": [
        ""
      ],
      "execution_count": 0,
      "outputs": []
    }
  ]
}